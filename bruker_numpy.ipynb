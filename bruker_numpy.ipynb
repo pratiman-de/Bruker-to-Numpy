{
 "cells": [
  {
   "cell_type": "code",
   "execution_count": null,
   "metadata": {},
   "outputs": [],
   "source": [
    "import numpy as np\n",
    "import matplotlib.pyplot as plt    "
   ]
  },
  {
   "cell_type": "markdown",
   "metadata": {},
   "source": [
    "Converting ser binary file to numpy array "
   ]
  },
  {
   "cell_type": "code",
   "execution_count": null,
   "metadata": {},
   "outputs": [],
   "source": [
    "byte_order = 0 # Set the byte order according to the data. 0 for little endian, 1 for big endian.\n",
    "input_file = 'path/to/your/folder/ser'\n",
    "# Make sure it's a 1D numpy array of type int32, matching the original data type\n",
    "\n",
    "if byte_order == 0:\n",
    "    # If the byte order is little endian, use '<' in dtype\n",
    "    dtype = '<i4'\n",
    "elif byte_order == 1:\n",
    "    # If the byte order is big endian, use '>' in dtype\n",
    "    dtype = '>i4'\n",
    "\n",
    "# Converting binary file to a numpy array\n",
    "with open(input_file, 'rb') as input_serial_file: \n",
    "    raw_data = np.frombuffer(input_serial_file.read(), dtype=dtype)"
   ]
  },
  {
   "cell_type": "code",
   "execution_count": null,
   "metadata": {},
   "outputs": [],
   "source": [
    "data_length = len(raw_data)              \n",
    "num_points_per_fid = 4096                 # If your FIDs are composed of 2048 real and 2048 imaginary points. Total = 4096. Set accordingly.\n",
    "num_fid = int(data_length/num_points_per_fid)  # Number of FIDs. Match with your data.\n",
    "print(num_fid)     "
   ]
  },
  {
   "cell_type": "code",
   "execution_count": null,
   "metadata": {},
   "outputs": [],
   "source": [
    "#getting a single numpy array of all the FIDs (256, 2048). Real and imaginary parts are mixed.\n",
    "fid2d = []\n",
    "\n",
    "for i  in range(num_fid):\n",
    "    a = i * num_points_per_fid\n",
    "    b = (i+1) * num_points_per_fid\n",
    "    fid_data = raw_data[a:b] \n",
    "    reals = fid_data[0::2]    \n",
    "    imags = fid_data[1::2] \n",
    "    fid = reals + 1.j*imags\n",
    "    fid2d.append(fid)\n",
    "\n",
    "fid2d = np.array(fid2d) # numpy array of all the FIDs (256, 2048). Real and imaginary parts are mixed.\n",
    "print(fid2d.shape)"
   ]
  },
  {
   "cell_type": "code",
   "execution_count": null,
   "metadata": {},
   "outputs": [],
   "source": [
    "plt.figure(figsize=(12,8), dpi=100)                   \n",
    "plt.subplot(2, 1, 1)   \n",
    "plt.plot(np.real(fid2d[100]), c='r', label='real')  \n",
    "plt.legend()                                 \n",
    "\n",
    "plt.subplot(2, 1, 2)                  \n",
    "plt.plot(np.imag(fid2d[100]),c='k', label='imaginary')\n",
    "plt.legend()                               \n",
    "\n",
    "plt.show()   "
   ]
  },
  {
   "cell_type": "markdown",
   "metadata": {},
   "source": [
    "Converting numpy array to ser binary file"
   ]
  },
  {
   "cell_type": "code",
   "execution_count": null,
   "metadata": {},
   "outputs": [],
   "source": [
    "# Initialize an empty list to store individual FID chunks\n",
    "fid_chunks = []\n",
    "\n",
    "# Iterate through each row in fid2d\n",
    "for fid in fid2d:\n",
    "    # Separate real and imaginary parts\n",
    "    reals = np.real(fid)\n",
    "    imags = np.imag(fid)\n",
    "    \n",
    "    # Interleave real and imaginary parts\n",
    "    fid_chunk = np.column_stack((reals, imags)).flatten()\n",
    "    \n",
    "    # Append the fid chunk to the list\n",
    "    fid_chunks.append(fid_chunk)\n",
    "\n",
    "# Stack the individual fid chunks to reconstruct the raw_data\n",
    "raw_data_reconstructed = np.concatenate(fid_chunks)\n",
    "\n",
    "# Check the shape of the reconstructed raw_data\n",
    "print(\"Shape of Reconstructed raw_data:\", raw_data_reconstructed.shape)"
   ]
  },
  {
   "cell_type": "code",
   "execution_count": null,
   "metadata": {},
   "outputs": [],
   "source": [
    "re = raw_data - raw_data_reconstructed\n",
    "print(re, re.shape) # If the difference is zero, then the reconstruction is correct."
   ]
  },
  {
   "cell_type": "code",
   "execution_count": null,
   "metadata": {},
   "outputs": [],
   "source": [
    "output_file = 'path/to/your/folder/ser'\n",
    "\n",
    "with open(output_file, 'wb') as output_serial_file: # Conversion of numpy array to ser file. Will be saved at output_file\n",
    "    output_serial_file.write(np.array(raw_data_reconstructed, dtype=dtype).tobytes())"
   ]
  }
 ],
 "metadata": {
  "kernelspec": {
   "display_name": "Python 3",
   "language": "python",
   "name": "python3"
  },
  "language_info": {
   "codemirror_mode": {
    "name": "ipython",
    "version": 3
   },
   "file_extension": ".py",
   "mimetype": "text/x-python",
   "name": "python",
   "nbconvert_exporter": "python",
   "pygments_lexer": "ipython3",
   "version": "3.9.13"
  }
 },
 "nbformat": 4,
 "nbformat_minor": 2
}
